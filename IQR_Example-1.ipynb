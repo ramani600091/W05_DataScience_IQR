{
 "cells": [
  {
   "cell_type": "markdown",
   "id": "2ce547db-cf47-406e-88fe-24f9fac65102",
   "metadata": {},
   "source": [
    "## INTER QUARTILE RANGE"
   ]
  },
  {
   "cell_type": "raw",
   "id": "cfe47ea9-fcc1-45e6-bc6c-fb274fe771b1",
   "metadata": {},
   "source": []
  },
  {
   "cell_type": "code",
   "execution_count": 1,
   "id": "106dc471-3eac-4278-9722-573a7aad8a64",
   "metadata": {},
   "outputs": [],
   "source": [
    "import pandas as pd\n",
    "import numpy as np\n",
    "from UniVariate import Univariate \n",
    "import warnings\n",
    "warnings.filterwarnings(\"ignore\")"
   ]
  },
  {
   "cell_type": "code",
   "execution_count": 2,
   "id": "dfa675de-9bb6-4a69-8444-553a055badd1",
   "metadata": {},
   "outputs": [],
   "source": [
    "dataset = [1, 12, 14, 15, 18, 19, 21, 22, 30, 100]\n",
    "dataset = [389950, 230500, 158000, 479000, 639000, 114950, 5500000, 387000, 659000, 529000, 575000, 488800, 1095000]\n",
    "# Convert list to DataFrame\n",
    "dataset= pd.DataFrame(dataset, columns=['Price'])\n",
    "dataset = dataset.sort_values(by=\"Price\").reset_index(drop=True)\n"
   ]
  },
  {
   "cell_type": "code",
   "execution_count": 3,
   "id": "99bdf94d-3079-46d1-928a-95079068abfc",
   "metadata": {},
   "outputs": [
    {
     "data": {
      "text/html": [
       "<div>\n",
       "<style scoped>\n",
       "    .dataframe tbody tr th:only-of-type {\n",
       "        vertical-align: middle;\n",
       "    }\n",
       "\n",
       "    .dataframe tbody tr th {\n",
       "        vertical-align: top;\n",
       "    }\n",
       "\n",
       "    .dataframe thead th {\n",
       "        text-align: right;\n",
       "    }\n",
       "</style>\n",
       "<table border=\"1\" class=\"dataframe\">\n",
       "  <thead>\n",
       "    <tr style=\"text-align: right;\">\n",
       "      <th></th>\n",
       "      <th>Price</th>\n",
       "    </tr>\n",
       "  </thead>\n",
       "  <tbody>\n",
       "    <tr>\n",
       "      <th>0</th>\n",
       "      <td>389950</td>\n",
       "    </tr>\n",
       "    <tr>\n",
       "      <th>1</th>\n",
       "      <td>230500</td>\n",
       "    </tr>\n",
       "    <tr>\n",
       "      <th>2</th>\n",
       "      <td>158000</td>\n",
       "    </tr>\n",
       "    <tr>\n",
       "      <th>3</th>\n",
       "      <td>479000</td>\n",
       "    </tr>\n",
       "    <tr>\n",
       "      <th>4</th>\n",
       "      <td>639000</td>\n",
       "    </tr>\n",
       "    <tr>\n",
       "      <th>5</th>\n",
       "      <td>114950</td>\n",
       "    </tr>\n",
       "    <tr>\n",
       "      <th>6</th>\n",
       "      <td>5500000</td>\n",
       "    </tr>\n",
       "    <tr>\n",
       "      <th>7</th>\n",
       "      <td>387000</td>\n",
       "    </tr>\n",
       "    <tr>\n",
       "      <th>8</th>\n",
       "      <td>659000</td>\n",
       "    </tr>\n",
       "    <tr>\n",
       "      <th>9</th>\n",
       "      <td>529000</td>\n",
       "    </tr>\n",
       "    <tr>\n",
       "      <th>10</th>\n",
       "      <td>575000</td>\n",
       "    </tr>\n",
       "    <tr>\n",
       "      <th>11</th>\n",
       "      <td>488800</td>\n",
       "    </tr>\n",
       "    <tr>\n",
       "      <th>12</th>\n",
       "      <td>1095000</td>\n",
       "    </tr>\n",
       "  </tbody>\n",
       "</table>\n",
       "</div>"
      ],
      "text/plain": [
       "      Price\n",
       "0    389950\n",
       "1    230500\n",
       "2    158000\n",
       "3    479000\n",
       "4    639000\n",
       "5    114950\n",
       "6   5500000\n",
       "7    387000\n",
       "8    659000\n",
       "9    529000\n",
       "10   575000\n",
       "11   488800\n",
       "12  1095000"
      ]
     },
     "execution_count": 3,
     "metadata": {},
     "output_type": "execute_result"
    }
   ],
   "source": [
    "dataset"
   ]
  },
  {
   "cell_type": "code",
   "execution_count": 4,
   "id": "53866666-96f3-48e9-a212-92f76384225d",
   "metadata": {},
   "outputs": [],
   "source": [
    "quan,qual=Univariate.QuanQual1(dataset)"
   ]
  },
  {
   "cell_type": "code",
   "execution_count": 5,
   "id": "bf8dc366-cfe6-4bdd-92cb-10f9ca767b7d",
   "metadata": {},
   "outputs": [
    {
     "data": {
      "text/plain": [
       "['Price']"
      ]
     },
     "execution_count": 5,
     "metadata": {},
     "output_type": "execute_result"
    }
   ],
   "source": [
    "quan"
   ]
  },
  {
   "cell_type": "code",
   "execution_count": 6,
   "id": "62d00560-5a23-464c-97cc-b02cc455e3f0",
   "metadata": {},
   "outputs": [],
   "source": [
    "descriptive=pd.DataFrame(index=[\"Mean\",\"Median\",\"Mode\",\"Min\",\"Max\",\"Q1\",\"Q2\",\"Q3\",\"IQR\",\"1.5Rule\",\"Lesser\",\"Greater\",\"Min\",\"Max\"],columns=quan)"
   ]
  },
  {
   "cell_type": "code",
   "execution_count": 7,
   "id": "8c72ff16-e1f0-4ef0-94a6-c9c05b7c7073",
   "metadata": {},
   "outputs": [
    {
     "data": {
      "text/html": [
       "<div>\n",
       "<style scoped>\n",
       "    .dataframe tbody tr th:only-of-type {\n",
       "        vertical-align: middle;\n",
       "    }\n",
       "\n",
       "    .dataframe tbody tr th {\n",
       "        vertical-align: top;\n",
       "    }\n",
       "\n",
       "    .dataframe thead th {\n",
       "        text-align: right;\n",
       "    }\n",
       "</style>\n",
       "<table border=\"1\" class=\"dataframe\">\n",
       "  <thead>\n",
       "    <tr style=\"text-align: right;\">\n",
       "      <th></th>\n",
       "      <th>Price</th>\n",
       "    </tr>\n",
       "  </thead>\n",
       "  <tbody>\n",
       "    <tr>\n",
       "      <th>Mean</th>\n",
       "      <td>865015.384615</td>\n",
       "    </tr>\n",
       "    <tr>\n",
       "      <th>Median</th>\n",
       "      <td>488800.0</td>\n",
       "    </tr>\n",
       "    <tr>\n",
       "      <th>Mode</th>\n",
       "      <td>114950</td>\n",
       "    </tr>\n",
       "    <tr>\n",
       "      <th>Min</th>\n",
       "      <td>114950</td>\n",
       "    </tr>\n",
       "    <tr>\n",
       "      <th>Max</th>\n",
       "      <td>5500000</td>\n",
       "    </tr>\n",
       "    <tr>\n",
       "      <th>Q1</th>\n",
       "      <td>387000.0</td>\n",
       "    </tr>\n",
       "    <tr>\n",
       "      <th>Q2</th>\n",
       "      <td>488800.0</td>\n",
       "    </tr>\n",
       "    <tr>\n",
       "      <th>Q3</th>\n",
       "      <td>639000.0</td>\n",
       "    </tr>\n",
       "    <tr>\n",
       "      <th>IQR</th>\n",
       "      <td>252000.0</td>\n",
       "    </tr>\n",
       "    <tr>\n",
       "      <th>1.5Rule</th>\n",
       "      <td>378000.0</td>\n",
       "    </tr>\n",
       "    <tr>\n",
       "      <th>Lesser</th>\n",
       "      <td>9000.0</td>\n",
       "    </tr>\n",
       "    <tr>\n",
       "      <th>Greater</th>\n",
       "      <td>1017000.0</td>\n",
       "    </tr>\n",
       "    <tr>\n",
       "      <th>Min</th>\n",
       "      <td>114950</td>\n",
       "    </tr>\n",
       "    <tr>\n",
       "      <th>Max</th>\n",
       "      <td>5500000</td>\n",
       "    </tr>\n",
       "  </tbody>\n",
       "</table>\n",
       "</div>"
      ],
      "text/plain": [
       "                 Price\n",
       "Mean     865015.384615\n",
       "Median        488800.0\n",
       "Mode            114950\n",
       "Min             114950\n",
       "Max            5500000\n",
       "Q1            387000.0\n",
       "Q2            488800.0\n",
       "Q3            639000.0\n",
       "IQR           252000.0\n",
       "1.5Rule       378000.0\n",
       "Lesser          9000.0\n",
       "Greater      1017000.0\n",
       "Min             114950\n",
       "Max            5500000"
      ]
     },
     "execution_count": 7,
     "metadata": {},
     "output_type": "execute_result"
    }
   ],
   "source": [
    "for columnName in quan:\n",
    "    descriptive[columnName][\"Mean\"] =dataset[columnName].mean()\n",
    "    descriptive[columnName][\"Median\"] =dataset[columnName].median()\n",
    "    descriptive[columnName][\"Mode\"] =dataset[columnName].mode()[0]\n",
    "    descriptive[columnName][\"Q1\"] =dataset.describe()[columnName][\"25%\"]\n",
    "    descriptive[columnName][\"Q2\"] =dataset.describe()[columnName][\"50%\"]\n",
    "    descriptive[columnName][\"Q3\"] =dataset.describe()[columnName][\"75%\"]\n",
    "    descriptive[columnName][\"IQR\"] =dataset.describe()[columnName][\"75%\"] - dataset.describe()[columnName][\"25%\"] \n",
    "    descriptive[columnName][\"1.5Rule\"] = 1.5 * descriptive[columnName][\"IQR\"]\n",
    "\n",
    "    descriptive[columnName][\"Lesser\"] =descriptive[columnName][\"Q1\"] - descriptive[columnName][\"1.5Rule\"]\n",
    "    descriptive[columnName][\"Greater\"]=descriptive[columnName][\"Q3\"] + descriptive[columnName][\"1.5Rule\"]\n",
    "    descriptive[columnName][\"Min\"]    =dataset[columnName].min()\n",
    "    descriptive[columnName][\"Max\"]    =dataset[columnName].max()\n",
    "\n",
    "descriptive\n",
    "    "
   ]
  },
  {
   "cell_type": "code",
   "execution_count": 8,
   "id": "def14fc9-13e5-4697-b969-b2313bc198a0",
   "metadata": {},
   "outputs": [],
   "source": [
    "##############################################################\n",
    "## 1) Gathering \"Oulier\" Columns\n",
    "##############################################################\n",
    "lesser=[]\n",
    "greater=[]\n",
    "\n",
    "for col in quan:\n",
    "    if (descriptive[col][\"Min\"] < descriptive[col][\"Lesser\"]).any():\n",
    "        lesser.append(col)\n",
    "    if (descriptive[col][\"Max\"]>descriptive[col][\"Greater\"]).any():                \n",
    "        greater.append(col)"
   ]
  },
  {
   "cell_type": "code",
   "execution_count": 9,
   "id": "d4aaef2e-fcb0-4d07-a92a-1e588558f721",
   "metadata": {},
   "outputs": [
    {
     "data": {
      "text/plain": [
       "[]"
      ]
     },
     "execution_count": 9,
     "metadata": {},
     "output_type": "execute_result"
    }
   ],
   "source": [
    "lesser\n"
   ]
  },
  {
   "cell_type": "code",
   "execution_count": 10,
   "id": "8444a6c1-766b-47e3-812a-b22d67e64b47",
   "metadata": {},
   "outputs": [
    {
     "data": {
      "text/plain": [
       "['Price']"
      ]
     },
     "execution_count": 10,
     "metadata": {},
     "output_type": "execute_result"
    }
   ],
   "source": [
    "greater"
   ]
  },
  {
   "cell_type": "code",
   "execution_count": 11,
   "id": "90b2ddd5-3e8b-4fb1-a689-e9ecf6a88722",
   "metadata": {},
   "outputs": [
    {
     "data": {
      "text/html": [
       "<div>\n",
       "<style scoped>\n",
       "    .dataframe tbody tr th:only-of-type {\n",
       "        vertical-align: middle;\n",
       "    }\n",
       "\n",
       "    .dataframe tbody tr th {\n",
       "        vertical-align: top;\n",
       "    }\n",
       "\n",
       "    .dataframe thead th {\n",
       "        text-align: right;\n",
       "    }\n",
       "</style>\n",
       "<table border=\"1\" class=\"dataframe\">\n",
       "  <thead>\n",
       "    <tr style=\"text-align: right;\">\n",
       "      <th></th>\n",
       "      <th>Price</th>\n",
       "    </tr>\n",
       "  </thead>\n",
       "  <tbody>\n",
       "    <tr>\n",
       "      <th>Mean</th>\n",
       "      <td>865015.384615</td>\n",
       "    </tr>\n",
       "    <tr>\n",
       "      <th>Median</th>\n",
       "      <td>488800.0</td>\n",
       "    </tr>\n",
       "    <tr>\n",
       "      <th>Mode</th>\n",
       "      <td>114950</td>\n",
       "    </tr>\n",
       "    <tr>\n",
       "      <th>Min</th>\n",
       "      <td>114950</td>\n",
       "    </tr>\n",
       "    <tr>\n",
       "      <th>Max</th>\n",
       "      <td>5500000</td>\n",
       "    </tr>\n",
       "    <tr>\n",
       "      <th>Q1</th>\n",
       "      <td>387000.0</td>\n",
       "    </tr>\n",
       "    <tr>\n",
       "      <th>Q2</th>\n",
       "      <td>488800.0</td>\n",
       "    </tr>\n",
       "    <tr>\n",
       "      <th>Q3</th>\n",
       "      <td>639000.0</td>\n",
       "    </tr>\n",
       "    <tr>\n",
       "      <th>IQR</th>\n",
       "      <td>252000.0</td>\n",
       "    </tr>\n",
       "    <tr>\n",
       "      <th>1.5Rule</th>\n",
       "      <td>378000.0</td>\n",
       "    </tr>\n",
       "    <tr>\n",
       "      <th>Lesser</th>\n",
       "      <td>9000.0</td>\n",
       "    </tr>\n",
       "    <tr>\n",
       "      <th>Greater</th>\n",
       "      <td>1017000.0</td>\n",
       "    </tr>\n",
       "    <tr>\n",
       "      <th>Min</th>\n",
       "      <td>114950</td>\n",
       "    </tr>\n",
       "    <tr>\n",
       "      <th>Max</th>\n",
       "      <td>5500000</td>\n",
       "    </tr>\n",
       "  </tbody>\n",
       "</table>\n",
       "</div>"
      ],
      "text/plain": [
       "                 Price\n",
       "Mean     865015.384615\n",
       "Median        488800.0\n",
       "Mode            114950\n",
       "Min             114950\n",
       "Max            5500000\n",
       "Q1            387000.0\n",
       "Q2            488800.0\n",
       "Q3            639000.0\n",
       "IQR           252000.0\n",
       "1.5Rule       378000.0\n",
       "Lesser          9000.0\n",
       "Greater      1017000.0\n",
       "Min             114950\n",
       "Max            5500000"
      ]
     },
     "execution_count": 11,
     "metadata": {},
     "output_type": "execute_result"
    }
   ],
   "source": [
    "for columnName in quan:\n",
    "    descriptive[columnName][\"Mean\"] =dataset[columnName].mean()\n",
    "    descriptive[columnName][\"Median\"] =dataset[columnName].median()\n",
    "    descriptive[columnName][\"Mode\"] =dataset[columnName].mode()[0]\n",
    "    descriptive[columnName][\"Q1\"] =dataset.describe()[columnName][\"25%\"]\n",
    "    descriptive[columnName][\"Q2\"] =dataset.describe()[columnName][\"50%\"]\n",
    "    descriptive[columnName][\"Q3\"] =dataset.describe()[columnName][\"75%\"]\n",
    "    descriptive[columnName][\"IQR\"] =dataset.describe()[columnName][\"75%\"] - dataset.describe()[columnName][\"25%\"] \n",
    "    descriptive[columnName][\"1.5Rule\"] = 1.5 * descriptive[columnName][\"IQR\"]\n",
    "\n",
    "    descriptive[columnName][\"Lesser\"] =descriptive[columnName][\"Q1\"] - descriptive[columnName][\"1.5Rule\"]\n",
    "    descriptive[columnName][\"Greater\"]=descriptive[columnName][\"Q3\"] + descriptive[columnName][\"1.5Rule\"]\n",
    "    descriptive[columnName][\"Min\"]    =dataset[columnName].min()\n",
    "    descriptive[columnName][\"Max\"]    =dataset[columnName].max()\n",
    "\n",
    "descriptive\n",
    "    "
   ]
  },
  {
   "cell_type": "markdown",
   "id": "5efcc2ec-1e09-40cc-bee6-2c49c6781867",
   "metadata": {},
   "source": [
    "## REMARKS\n",
    "Expected is:\n",
    "•\tQuartiles are calculated by taking the average of two values (for Q1 and Q3 when the number of data points is odd or even, as in the screenshot),\n",
    "\n",
    "•\tQ1 = 308,750,\n",
    "\n",
    "•\tQ3 = 649,000,\n",
    "\n",
    "•\tIQR = Q3 − Q1 = 340,250,\n",
    "\n",
    "•\t1.5 × IQR = 510,375,\n",
    "\n",
    "•\tLower bound = Q1 − 1.5 × IQR = −201,625,\n",
    "\n",
    "•\tUpper bound = Q3 + 1.5 × IQR = 1,159,375.\n",
    "\n",
    "Any value above 1,159,375 or below −201,625 is considered an outlier.\n"
   ]
  },
  {
   "cell_type": "code",
   "execution_count": null,
   "id": "98638003-2cf0-4548-ba2a-304d7aee048e",
   "metadata": {},
   "outputs": [],
   "source": []
  }
 ],
 "metadata": {
  "kernelspec": {
   "display_name": "Python 3 (ipykernel)",
   "language": "python",
   "name": "python3"
  },
  "language_info": {
   "codemirror_mode": {
    "name": "ipython",
    "version": 3
   },
   "file_extension": ".py",
   "mimetype": "text/x-python",
   "name": "python",
   "nbconvert_exporter": "python",
   "pygments_lexer": "ipython3",
   "version": "3.13.5"
  }
 },
 "nbformat": 4,
 "nbformat_minor": 5
}
